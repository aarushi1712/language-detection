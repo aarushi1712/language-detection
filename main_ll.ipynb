{
  "cells": [
    {
      "cell_type": "code",
      "execution_count": 4,
      "metadata": {
        "id": "0ICYAPNvicc7"
      },
      "outputs": [],
      "source": [
        "#imports\n",
        "import pandas as pd\n",
        "import numpy as np\n",
        "\n",
        "from sklearn.feature_extraction.text import CountVectorizer\n",
        "from sklearn.metrics import accuracy_score,confusion_matrix\n",
        "\n",
        "import matplotlib.pyplot as plt\n",
        "import seaborn as sns\n",
        "\n",
        "import csv\n",
        "from itertools import chain"
      ]
    },
    {
      "cell_type": "code",
      "execution_count": 5,
      "metadata": {
        "colab": {
          "base_uri": "https://localhost:8080/"
        },
        "id": "m_fFGbhOs80l",
        "outputId": "f88957c5-9d4a-4d24-d93a-99a93c894e8d"
      },
      "outputs": [
        {
          "data": {
            "text/plain": [
              "'from google.colab import drive\\ndrive.mount(\"/content/gdrive\")'"
            ]
          },
          "execution_count": 5,
          "metadata": {},
          "output_type": "execute_result"
        }
      ],
      "source": [
        "'''from google.colab import drive\n",
        "drive.mount(\"/content/gdrive\")'''"
      ]
    },
    {
      "cell_type": "code",
      "execution_count": 6,
      "metadata": {
        "colab": {
          "base_uri": "https://localhost:8080/"
        },
        "id": "ZxtYdJW_icc8",
        "outputId": "59d176aa-4b9a-4457-9ac5-d789dd77d319"
      },
      "outputs": [
        {
          "name": "stderr",
          "output_type": "stream",
          "text": [
            "C:\\Users\\heets\\AppData\\Local\\Temp\\ipykernel_15580\\2012408875.py:21: FutureWarning: The frame.append method is deprecated and will be removed from pandas in a future version. Use pandas.concat instead.\n",
            "  data_trim = data_trim.append(lang_trim)\n",
            "C:\\Users\\heets\\AppData\\Local\\Temp\\ipykernel_15580\\2012408875.py:21: FutureWarning: The frame.append method is deprecated and will be removed from pandas in a future version. Use pandas.concat instead.\n",
            "  data_trim = data_trim.append(lang_trim)\n",
            "C:\\Users\\heets\\AppData\\Local\\Temp\\ipykernel_15580\\2012408875.py:21: FutureWarning: The frame.append method is deprecated and will be removed from pandas in a future version. Use pandas.concat instead.\n",
            "  data_trim = data_trim.append(lang_trim)\n",
            "C:\\Users\\heets\\AppData\\Local\\Temp\\ipykernel_15580\\2012408875.py:21: FutureWarning: The frame.append method is deprecated and will be removed from pandas in a future version. Use pandas.concat instead.\n",
            "  data_trim = data_trim.append(lang_trim)\n",
            "C:\\Users\\heets\\AppData\\Local\\Temp\\ipykernel_15580\\2012408875.py:21: FutureWarning: The frame.append method is deprecated and will be removed from pandas in a future version. Use pandas.concat instead.\n",
            "  data_trim = data_trim.append(lang_trim)\n",
            "C:\\Users\\heets\\AppData\\Local\\Temp\\ipykernel_15580\\2012408875.py:21: FutureWarning: The frame.append method is deprecated and will be removed from pandas in a future version. Use pandas.concat instead.\n",
            "  data_trim = data_trim.append(lang_trim)\n",
            "C:\\Users\\heets\\AppData\\Local\\Temp\\ipykernel_15580\\2012408875.py:21: FutureWarning: The frame.append method is deprecated and will be removed from pandas in a future version. Use pandas.concat instead.\n",
            "  data_trim = data_trim.append(lang_trim)\n",
            "C:\\Users\\heets\\AppData\\Local\\Temp\\ipykernel_15580\\2012408875.py:21: FutureWarning: The frame.append method is deprecated and will be removed from pandas in a future version. Use pandas.concat instead.\n",
            "  data_trim = data_trim.append(lang_trim)\n"
          ]
        }
      ],
      "source": [
        "#Read in full dataset\n",
        "data = pd.read_csv('./dataset/sentences.csv',\n",
        "                            sep='\\t', \n",
        "                            encoding='utf8', \n",
        "                            index_col=0,\n",
        "                            names=['lang','text'])\n",
        "\n",
        "#Filter by text length\n",
        "len_cond = [True if 20<=len(s)<=200 else False for s in data['text']]\n",
        "data = data[len_cond]\n",
        "\n",
        "#Filter by text language\n",
        "lang = ['deu', 'eng', 'fra', 'ita', 'por', 'cmn', 'jpn', 'mar']\n",
        "data = data[data['lang'].isin(lang)]\n",
        "\n",
        "#Select 50000 rows for each language\n",
        "data_trim = pd.DataFrame(columns=['lang','text'])\n",
        "\n",
        "for l in lang:\n",
        "    lang_trim = data[data['lang'] ==l].sample(50000,random_state = 100,replace=True)\n",
        "    data_trim = data_trim.append(lang_trim)\n",
        "\n",
        "#Create a random train, valid, test split\n",
        "data_shuffle = data_trim.sample(frac=1)\n",
        "\n",
        "train = data_shuffle[0:280000]\n",
        "valid = data_shuffle[280000:360000]\n",
        "test = data_shuffle[360000:400000]"
      ]
    },
    {
      "cell_type": "code",
      "execution_count": 7,
      "metadata": {
        "id": "B0a9rxdWicc9"
      },
      "outputs": [],
      "source": [
        "train.to_csv('./Files/train.csv')\n",
        "valid.to_csv('./Files/valid.csv')\n",
        "test.to_csv('./Files/test.csv')"
      ]
    },
    {
      "cell_type": "code",
      "execution_count": 8,
      "metadata": {
        "colab": {
          "base_uri": "https://localhost:8080/",
          "height": 223
        },
        "id": "r-jkItEVicc9",
        "outputId": "64581262-51e4-47d0-ac66-23b2aa72ebbd"
      },
      "outputs": [
        {
          "name": "stdout",
          "output_type": "stream",
          "text": [
            "280000 80000 40000\n"
          ]
        },
        {
          "data": {
            "text/html": [
              "<div>\n",
              "<style scoped>\n",
              "    .dataframe tbody tr th:only-of-type {\n",
              "        vertical-align: middle;\n",
              "    }\n",
              "\n",
              "    .dataframe tbody tr th {\n",
              "        vertical-align: top;\n",
              "    }\n",
              "\n",
              "    .dataframe thead th {\n",
              "        text-align: right;\n",
              "    }\n",
              "</style>\n",
              "<table border=\"1\" class=\"dataframe\">\n",
              "  <thead>\n",
              "    <tr style=\"text-align: right;\">\n",
              "      <th></th>\n",
              "      <th>lang</th>\n",
              "      <th>text</th>\n",
              "    </tr>\n",
              "  </thead>\n",
              "  <tbody>\n",
              "    <tr>\n",
              "      <th>772195</th>\n",
              "      <td>fra</td>\n",
              "      <td>Il a finalement trouvé une solution à son prob...</td>\n",
              "    </tr>\n",
              "    <tr>\n",
              "      <th>3320722</th>\n",
              "      <td>cmn</td>\n",
              "      <td>这次到北京来，一方面想游览北京的名胜古迹，另一方面也想看看多年不见的老朋友。</td>\n",
              "    </tr>\n",
              "    <tr>\n",
              "      <th>6680914</th>\n",
              "      <td>deu</td>\n",
              "      <td>Dieser Wein ist sehr teuer.</td>\n",
              "    </tr>\n",
              "    <tr>\n",
              "      <th>10511271</th>\n",
              "      <td>mar</td>\n",
              "      <td>झिरी आणि रिमा सेक्स करत आहेत.</td>\n",
              "    </tr>\n",
              "    <tr>\n",
              "      <th>4871387</th>\n",
              "      <td>mar</td>\n",
              "      <td>ती गायिका नव्हे तर अभिनेत्री आहे.</td>\n",
              "    </tr>\n",
              "  </tbody>\n",
              "</table>\n",
              "</div>"
            ],
            "text/plain": [
              "         lang                                               text\n",
              "772195    fra  Il a finalement trouvé une solution à son prob...\n",
              "3320722   cmn             这次到北京来，一方面想游览北京的名胜古迹，另一方面也想看看多年不见的老朋友。\n",
              "6680914   deu                        Dieser Wein ist sehr teuer.\n",
              "10511271  mar                      झिरी आणि रिमा सेक्स करत आहेत.\n",
              "4871387   mar                  ती गायिका नव्हे तर अभिनेत्री आहे."
            ]
          },
          "execution_count": 8,
          "metadata": {},
          "output_type": "execute_result"
        }
      ],
      "source": [
        "train = pd.read_csv(\"./Files/train.csv\",index_col =0)\n",
        "valid = pd.read_csv(\"./Files/valid.csv\",index_col =0)\n",
        "test = pd.read_csv(\"./Files/test.csv\",index_col =0)\n",
        "print(len(train),len(valid),len(test))\n",
        "train.head()"
      ]
    },
    {
      "cell_type": "code",
      "execution_count": 9,
      "metadata": {
        "id": "zLqmhML_icc-"
      },
      "outputs": [],
      "source": [
        "def get_trigrams(corpus,n_feat=200):\n",
        "    \"\"\"\n",
        "    Returns a list of the N most common character trigrams from a list of sentences\n",
        "    params\n",
        "    ------------\n",
        "        corpus: list of strings\n",
        "        n_feat: integer\n",
        "    \"\"\"\n",
        "    \n",
        "    #fit the n-gram model\n",
        "    vectorizer = CountVectorizer(analyzer='char',\n",
        "                            ngram_range=(3, 3)\n",
        "                            ,max_features=n_feat)\n",
        "    \n",
        "    X = vectorizer.fit_transform(corpus)\n",
        "    \n",
        "    #Get model feature names\n",
        "    feature_names = vectorizer.get_feature_names_out()\n",
        "    \n",
        "    return feature_names"
      ]
    },
    {
      "cell_type": "code",
      "execution_count": 10,
      "metadata": {
        "id": "b7HIvl2Qicc-"
      },
      "outputs": [],
      "source": [
        "#obtain trigrams from each language\n",
        "features = {}\n",
        "features_set = set()\n",
        "\n",
        "for l in lang:\n",
        "    \n",
        "    #get corpus filtered by language\n",
        "    corpus = train[train.lang==l]['text']\n",
        "    \n",
        "    #get 200 most frequent trigrams\n",
        "    trigrams = get_trigrams(corpus)\n",
        "    \n",
        "    #add to dict and set\n",
        "    features[l] = trigrams \n",
        "    features_set.update(trigrams)\n",
        "\n",
        "    \n",
        "#create vocabulary list using feature set\n",
        "vocab = dict()\n",
        "for i,f in enumerate(features_set):\n",
        "    vocab[f]=i"
      ]
    },
    {
      "cell_type": "code",
      "execution_count": 11,
      "metadata": {
        "id": "qCD2UW-Gicc-"
      },
      "outputs": [],
      "source": [
        "#train count vectoriser using vocabulary\n",
        "vectorizer = CountVectorizer(analyzer='char',\n",
        "                             ngram_range=(3, 3),\n",
        "                            vocabulary=vocab)\n",
        "\n",
        "#create feature matrix for training set\n",
        "corpus = train['text']   \n",
        "X = vectorizer.fit_transform(corpus)\n",
        "feature_names = vectorizer.get_feature_names_out()\n",
        "\n",
        "train_feat = pd.DataFrame(data=X.toarray(),columns=feature_names)"
      ]
    },
    {
      "cell_type": "code",
      "execution_count": 12,
      "metadata": {
        "id": "VQ9WAxVYicc-"
      },
      "outputs": [],
      "source": [
        "#Scale feature matrix \n",
        "train_min = train_feat.min()\n",
        "train_max = train_feat.max()\n",
        "train_feat = (train_feat - train_min)/(train_max-train_min)\n",
        "\n",
        "#Add target variable \n",
        "train_feat['lang'] = list(train['lang'])"
      ]
    },
    {
      "cell_type": "code",
      "execution_count": 13,
      "metadata": {
        "id": "GXysoUfiicc_"
      },
      "outputs": [],
      "source": [
        "#create feature matrix for validation set\n",
        "corpus = valid['text']   \n",
        "X = vectorizer.fit_transform(corpus)\n",
        "\n",
        "valid_feat = pd.DataFrame(data=X.toarray(),columns=feature_names)\n",
        "valid_feat = (valid_feat - train_min)/(train_max-train_min)\n",
        "valid_feat['lang'] = list(valid['lang'])\n",
        "\n",
        "#create feature matrix for test set\n",
        "corpus = test['text']   \n",
        "X = vectorizer.fit_transform(corpus)\n",
        "\n",
        "test_feat = pd.DataFrame(data=X.toarray(),columns=feature_names)\n",
        "test_feat = (test_feat - train_min)/(train_max-train_min)\n",
        "test_feat['lang'] = list(test['lang'])"
      ]
    },
    {
      "cell_type": "code",
      "execution_count": 11,
      "metadata": {
        "colab": {
          "base_uri": "https://localhost:8080/",
          "height": 346
        },
        "id": "TBPek2Yhicc_",
        "outputId": "c7bf89eb-7379-4051-e54f-26433dc3b8d8"
      },
      "outputs": [],
      "source": [
        "train_feat.to_csv('./Feature_Files/train.csv')\n",
        "valid_feat.to_csv('./Feature_Files/valid.csv')\n",
        "test_feat.to_csv('./Feature_Files/test.csv')"
      ]
    },
    {
      "cell_type": "code",
      "execution_count": 12,
      "metadata": {
        "id": "0J2jSPQyicc_"
      },
      "outputs": [
        {
          "name": "stdout",
          "output_type": "stream",
          "text": [
            "280000 80000 40000\n"
          ]
        },
        {
          "data": {
            "text/html": [
              "<div>\n",
              "<style scoped>\n",
              "    .dataframe tbody tr th:only-of-type {\n",
              "        vertical-align: middle;\n",
              "    }\n",
              "\n",
              "    .dataframe tbody tr th {\n",
              "        vertical-align: top;\n",
              "    }\n",
              "\n",
              "    .dataframe thead th {\n",
              "        text-align: right;\n",
              "    }\n",
              "</style>\n",
              "<table border=\"1\" class=\"dataframe\">\n",
              "  <thead>\n",
              "    <tr style=\"text-align: right;\">\n",
              "      <th></th>\n",
              "      <th>ica</th>\n",
              "      <th>eux</th>\n",
              "      <th>end</th>\n",
              "      <th>pas</th>\n",
              "      <th>的人，</th>\n",
              "      <th>nne</th>\n",
              "      <th>lla</th>\n",
              "      <th>ih</th>\n",
              "      <th>我不知</th>\n",
              "      <th>，也不</th>\n",
              "      <th>...</th>\n",
              "      <th>as</th>\n",
              "      <th>y t</th>\n",
              "      <th>んなに</th>\n",
              "      <th>ato</th>\n",
              "      <th>了什么</th>\n",
              "      <th>s i</th>\n",
              "      <th>来说，</th>\n",
              "      <th>是我的</th>\n",
              "      <th>i w</th>\n",
              "      <th>lang</th>\n",
              "    </tr>\n",
              "  </thead>\n",
              "  <tbody>\n",
              "    <tr>\n",
              "      <th>0</th>\n",
              "      <td>0.0</td>\n",
              "      <td>0.0</td>\n",
              "      <td>0.0</td>\n",
              "      <td>0.000000</td>\n",
              "      <td>0.0</td>\n",
              "      <td>0.0</td>\n",
              "      <td>0.0</td>\n",
              "      <td>0.0</td>\n",
              "      <td>0.0</td>\n",
              "      <td>0.0</td>\n",
              "      <td>...</td>\n",
              "      <td>0.111111</td>\n",
              "      <td>0.0</td>\n",
              "      <td>0.0</td>\n",
              "      <td>0.0</td>\n",
              "      <td>0.0</td>\n",
              "      <td>0.0</td>\n",
              "      <td>0.0</td>\n",
              "      <td>0.0</td>\n",
              "      <td>0.0</td>\n",
              "      <td>deu</td>\n",
              "    </tr>\n",
              "    <tr>\n",
              "      <th>1</th>\n",
              "      <td>0.0</td>\n",
              "      <td>0.0</td>\n",
              "      <td>0.0</td>\n",
              "      <td>0.166667</td>\n",
              "      <td>0.0</td>\n",
              "      <td>0.0</td>\n",
              "      <td>0.0</td>\n",
              "      <td>0.0</td>\n",
              "      <td>0.0</td>\n",
              "      <td>0.0</td>\n",
              "      <td>...</td>\n",
              "      <td>0.111111</td>\n",
              "      <td>0.0</td>\n",
              "      <td>0.0</td>\n",
              "      <td>0.0</td>\n",
              "      <td>0.0</td>\n",
              "      <td>0.0</td>\n",
              "      <td>0.0</td>\n",
              "      <td>0.0</td>\n",
              "      <td>0.0</td>\n",
              "      <td>fra</td>\n",
              "    </tr>\n",
              "    <tr>\n",
              "      <th>2</th>\n",
              "      <td>0.0</td>\n",
              "      <td>0.0</td>\n",
              "      <td>0.0</td>\n",
              "      <td>0.000000</td>\n",
              "      <td>0.0</td>\n",
              "      <td>0.0</td>\n",
              "      <td>0.0</td>\n",
              "      <td>0.0</td>\n",
              "      <td>0.0</td>\n",
              "      <td>0.0</td>\n",
              "      <td>...</td>\n",
              "      <td>0.000000</td>\n",
              "      <td>0.0</td>\n",
              "      <td>0.0</td>\n",
              "      <td>0.0</td>\n",
              "      <td>0.0</td>\n",
              "      <td>0.0</td>\n",
              "      <td>0.0</td>\n",
              "      <td>0.0</td>\n",
              "      <td>0.0</td>\n",
              "      <td>mar</td>\n",
              "    </tr>\n",
              "    <tr>\n",
              "      <th>3</th>\n",
              "      <td>0.0</td>\n",
              "      <td>0.0</td>\n",
              "      <td>0.0</td>\n",
              "      <td>0.000000</td>\n",
              "      <td>0.0</td>\n",
              "      <td>0.0</td>\n",
              "      <td>0.0</td>\n",
              "      <td>0.0</td>\n",
              "      <td>0.0</td>\n",
              "      <td>0.0</td>\n",
              "      <td>...</td>\n",
              "      <td>0.000000</td>\n",
              "      <td>0.0</td>\n",
              "      <td>0.0</td>\n",
              "      <td>0.0</td>\n",
              "      <td>0.0</td>\n",
              "      <td>0.0</td>\n",
              "      <td>0.0</td>\n",
              "      <td>0.0</td>\n",
              "      <td>0.0</td>\n",
              "      <td>fra</td>\n",
              "    </tr>\n",
              "    <tr>\n",
              "      <th>4</th>\n",
              "      <td>0.0</td>\n",
              "      <td>0.0</td>\n",
              "      <td>0.0</td>\n",
              "      <td>0.000000</td>\n",
              "      <td>0.0</td>\n",
              "      <td>0.0</td>\n",
              "      <td>0.0</td>\n",
              "      <td>0.0</td>\n",
              "      <td>0.0</td>\n",
              "      <td>0.0</td>\n",
              "      <td>...</td>\n",
              "      <td>0.000000</td>\n",
              "      <td>0.0</td>\n",
              "      <td>0.0</td>\n",
              "      <td>0.0</td>\n",
              "      <td>0.0</td>\n",
              "      <td>0.0</td>\n",
              "      <td>0.0</td>\n",
              "      <td>0.0</td>\n",
              "      <td>0.0</td>\n",
              "      <td>fra</td>\n",
              "    </tr>\n",
              "  </tbody>\n",
              "</table>\n",
              "<p>5 rows × 1228 columns</p>\n",
              "</div>"
            ],
            "text/plain": [
              "   ica  eux  end       pas  的人，  nne  lla   ih  我不知  ，也不  ...       as   y t  \\\n",
              "0  0.0  0.0  0.0  0.000000  0.0  0.0  0.0  0.0  0.0  0.0  ...  0.111111  0.0   \n",
              "1  0.0  0.0  0.0  0.166667  0.0  0.0  0.0  0.0  0.0  0.0  ...  0.111111  0.0   \n",
              "2  0.0  0.0  0.0  0.000000  0.0  0.0  0.0  0.0  0.0  0.0  ...  0.000000  0.0   \n",
              "3  0.0  0.0  0.0  0.000000  0.0  0.0  0.0  0.0  0.0  0.0  ...  0.000000  0.0   \n",
              "4  0.0  0.0  0.0  0.000000  0.0  0.0  0.0  0.0  0.0  0.0  ...  0.000000  0.0   \n",
              "\n",
              "   んなに  ato  了什么  s i  来说，  是我的  i w  lang  \n",
              "0  0.0  0.0  0.0  0.0  0.0  0.0  0.0   deu  \n",
              "1  0.0  0.0  0.0  0.0  0.0  0.0  0.0   fra  \n",
              "2  0.0  0.0  0.0  0.0  0.0  0.0  0.0   mar  \n",
              "3  0.0  0.0  0.0  0.0  0.0  0.0  0.0   fra  \n",
              "4  0.0  0.0  0.0  0.0  0.0  0.0  0.0   fra  \n",
              "\n",
              "[5 rows x 1228 columns]"
            ]
          },
          "execution_count": 12,
          "metadata": {},
          "output_type": "execute_result"
        }
      ],
      "source": [
        "train_feat = pd.read_csv(\"./Feature_Files/train.csv\",index_col =0)\n",
        "valid_feat = pd.read_csv(\"./Feature_Files/valid.csv\",index_col =0)\n",
        "test_feat = pd.read_csv(\"./Feature_Files/test.csv\",index_col =0)\n",
        "print(len(train_feat),len(valid_feat),len(test_feat))\n",
        "train_feat.head()"
      ]
    },
    {
      "cell_type": "code",
      "execution_count": 20,
      "metadata": {
        "colab": {
          "base_uri": "https://localhost:8080/"
        },
        "id": "a-mALnDzicc_",
        "outputId": "3c3787ce-8576-428e-c42e-fc18bae30062"
      },
      "outputs": [
        {
          "data": {
            "text/plain": [
              "1229"
            ]
          },
          "execution_count": 20,
          "metadata": {},
          "output_type": "execute_result"
        }
      ],
      "source": [
        "len(train_feat.columns)"
      ]
    },
    {
      "cell_type": "code",
      "execution_count": 21,
      "metadata": {
        "id": "uRWSX33nicc_"
      },
      "outputs": [],
      "source": [
        "from sklearn.preprocessing import LabelEncoder\n",
        "from keras.utils import np_utils\n",
        "\n",
        "#Fit encoder\n",
        "encoder = LabelEncoder()\n",
        "encoder.fit(['deu', 'eng', 'fra', 'ita', 'por', 'cmn', 'jpn', 'mar'])\n",
        "\n",
        "def encode(y):\n",
        "    \"\"\"\n",
        "    Returns a list of one hot encodings \n",
        "    \n",
        "    Params\n",
        "    ---------\n",
        "        y: list of language labels\n",
        "    \"\"\"\n",
        "    \n",
        "    y_encoded = encoder.transform(y)\n",
        "    y_dummy = np_utils.to_categorical(y_encoded)\n",
        "    \n",
        "    return y_dummy"
      ]
    },
    {
      "cell_type": "code",
      "execution_count": 22,
      "metadata": {
        "id": "YKqsYMGYicdA"
      },
      "outputs": [],
      "source": [
        "from keras.models import Sequential\n",
        "from keras.layers import Dense\n",
        "\n",
        "x = train_feat.drop('lang',axis=1)\n",
        "y = encode(train_feat['lang'])\n",
        "\n",
        "x_val = valid_feat.drop('lang',axis=1)\n",
        "y_val = encode(valid_feat['lang'])"
      ]
    },
    {
      "cell_type": "code",
      "execution_count": 45,
      "metadata": {
        "id": "WTbdOTM-icdA"
      },
      "outputs": [],
      "source": [
        "#final model\n",
        "from keras.models import Sequential\n",
        "from keras.layers import Dense\n",
        "from keras.layers import Dropout\n",
        "from keras.regularizers import l2\n",
        "\n",
        "#Get training data\n",
        "x = train_feat.drop('lang',axis=1)\n",
        "y = encode(train_feat['lang'])\n",
        "\n",
        "#Define model \n",
        "# model = Sequential()\n",
        "# model.add(Dense(50, input_dim=len(train_feat.columns)-1, activation='relu'))\n",
        "# model.add(Dense(10, activation='relu',kernel_regularizer=l2(0.001)))\n",
        "# model.add(Dropout(0.3))\n",
        "# model.add(Dense(6, activation='softmax'))\n",
        "# model.compile(loss='categorical_crossentropy', optimizer='adam', metrics=['accuracy'])\n",
        "\n",
        "model = Sequential()\n",
        "model.add(Dense(50, input_dim=len(train_feat.columns)-1, activation='relu', kernel_regularizer=l2(0.01)))\n",
        "model.add(Dropout(0.75))\n",
        "model.add(Dense(10, activation='relu', kernel_regularizer=l2(0.01)))\n",
        "model.add(Dropout(0.75))\n",
        "model.add(Dense(8, activation='softmax'))\n",
        "model.compile(loss='categorical_crossentropy', optimizer='adam', metrics=['accuracy'])\n"
      ]
    },
    {
      "cell_type": "code",
      "execution_count": 46,
      "metadata": {
        "colab": {
          "base_uri": "https://localhost:8080/"
        },
        "id": "ouO20gPN_qxe",
        "outputId": "833a7cc8-ac78-4dd0-f068-0f297216b2ae"
      },
      "outputs": [
        {
          "name": "stdout",
          "output_type": "stream",
          "text": [
            "Model: \"sequential_5\"\n",
            "_________________________________________________________________\n",
            " Layer (type)                Output Shape              Param #   \n",
            "=================================================================\n",
            " dense_15 (Dense)            (None, 50)                61450     \n",
            "                                                                 \n",
            " dropout_10 (Dropout)        (None, 50)                0         \n",
            "                                                                 \n",
            " dense_16 (Dense)            (None, 10)                510       \n",
            "                                                                 \n",
            " dropout_11 (Dropout)        (None, 10)                0         \n",
            "                                                                 \n",
            " dense_17 (Dense)            (None, 8)                 88        \n",
            "                                                                 \n",
            "=================================================================\n",
            "Total params: 62,048\n",
            "Trainable params: 62,048\n",
            "Non-trainable params: 0\n",
            "_________________________________________________________________\n"
          ]
        }
      ],
      "source": [
        "model.summary()"
      ]
    },
    {
      "cell_type": "code",
      "execution_count": 47,
      "metadata": {
        "colab": {
          "base_uri": "https://localhost:8080/"
        },
        "id": "Doa7itw6icdA",
        "outputId": "f7e9cf59-b969-4bd2-f774-b8ed54b40aff"
      },
      "outputs": [
        {
          "name": "stdout",
          "output_type": "stream",
          "text": [
            "Epoch 1/4\n",
            "2800/2800 [==============================] - 9s 3ms/step - loss: 1.8132 - accuracy: 0.3613\n",
            "Epoch 2/4\n",
            "2800/2800 [==============================] - 11s 4ms/step - loss: 1.6244 - accuracy: 0.4340\n",
            "Epoch 3/4\n",
            "2800/2800 [==============================] - 8s 3ms/step - loss: 1.5612 - accuracy: 0.4516\n",
            "Epoch 4/4\n",
            "2800/2800 [==============================] - 8s 3ms/step - loss: 1.5281 - accuracy: 0.4559\n"
          ]
        },
        {
          "data": {
            "text/plain": [
              "<keras.callbacks.History at 0x234b4a058a0>"
            ]
          },
          "execution_count": 47,
          "metadata": {},
          "output_type": "execute_result"
        }
      ],
      "source": [
        "model.fit(x,y,epochs=4,batch_size=100)"
      ]
    },
    {
      "cell_type": "code",
      "execution_count": 48,
      "metadata": {
        "id": "yGvBj5O6icdA"
      },
      "outputs": [],
      "source": [
        "model.save_weights(\"./Weights/weight.h5\")"
      ]
    },
    {
      "cell_type": "code",
      "execution_count": 49,
      "metadata": {
        "colab": {
          "base_uri": "https://localhost:8080/",
          "height": 661
        },
        "id": "RYTDxYNJicdA",
        "outputId": "83625e2e-af7d-4091-d42c-de478f188e78"
      },
      "outputs": [
        {
          "name": "stdout",
          "output_type": "stream",
          "text": [
            "1250/1250 [==============================] - 2s 1ms/step\n",
            "0.84795\n"
          ]
        },
        {
          "data": {
            "text/plain": [
              "Text(86.25, 0.5, 'Actual')"
            ]
          },
          "execution_count": 49,
          "metadata": {},
          "output_type": "execute_result"
        },
        {
          "data": {
            "image/png": "[encoded data removed]",
            "text/plain": [
              "<Figure size 1000x1000 with 1 Axes>"
            ]
          },
          "metadata": {},
          "output_type": "display_data"
        }
      ],
      "source": [
        "import matplotlib.pyplot as plt\n",
        "import seaborn as sns\n",
        "from sklearn.metrics import accuracy_score,confusion_matrix\n",
        "\n",
        "x_test = test_feat.drop('lang',axis=1)\n",
        "y_test = test_feat['lang']\n",
        "\n",
        "#Get predictions on test set\n",
        "labels = model.predict(x_test)\n",
        "classes_x=np.argmax(labels,axis=1)\n",
        "predictions = encoder.inverse_transform(classes_x)\n",
        "\n",
        "accuracy = accuracy_score(y_test,predictions)\n",
        "print(accuracy)\n",
        "\n",
        "#Create confusion matrix\n",
        "lang = ['deu', 'eng', 'fra', 'ita', 'por', 'cmn', 'jpn', 'mar']\n",
        "conf_matrix = confusion_matrix(y_test,predictions)\n",
        "conf_matrix_df = pd.DataFrame(conf_matrix,columns=lang,index=lang)\n",
        "\n",
        "#Plot confusion matrix heatmap\n",
        "plt.figure(figsize=(10, 10), facecolor='w', edgecolor='k')\n",
        "sns.set(font_scale=1.5)\n",
        "sns.heatmap(conf_matrix_df,cmap='coolwarm',annot=True,fmt='.5g',cbar=False)\n",
        "plt.xlabel('Predicted',fontsize=22)\n",
        "plt.ylabel('Actual',fontsize=22)"
      ]
    },
    {
      "cell_type": "code",
      "execution_count": 67,
      "metadata": {
        "id": "N6GCMoZogd5G"
      },
      "outputs": [],
      "source": [
        "#converting the sentence to csv file\n",
        "def String_to_csv(String_text_to_predict):\n",
        "     utf8_string_text_to_predict=String_text_to_predict.encode(\"utf-8\")\n",
        "\n",
        "\n",
        "     text_file = open(\"./Predict_Sentence/text_to_predict.txt\", \"w\")\n",
        "     n = text_file.write(String_text_to_predict)\n",
        "     text_file.close()\n",
        "\n",
        "     with open(\"./Predict_Sentence/text_to_predict.txt\", \"r\") as fin,\\\n",
        "          open(\"./Predict_Sentence/text_to_predict.csv\", \"w\") as fout:\n",
        "          zipped = zip(*(line.rstrip().split() for line in fin))\n",
        "          fout.write(\" \".join(chain(*zipped)))"
      ]
    },
    {
      "cell_type": "code",
      "execution_count": 68,
      "metadata": {},
      "outputs": [],
      "source": [
        "#create feature matrix for the predicting sentence\n",
        "def csv_to_feature_matrix():\n",
        "    csv_text_to_predict=pd.read_csv(\"./Predict_Sentence/text_to_predict.csv\", encoding= 'utf-8')\n",
        "    corpus = csv_text_to_predict   \n",
        "    X = vectorizer.fit_transform(corpus)\n",
        "\n",
        "    text_to_predict_feat = pd.DataFrame(data=X.toarray(),columns=feature_names)\n",
        "    text_to_predict_feat = (text_to_predict_feat - train_min)/(train_max-train_min)\n",
        "    text_to_predict_feat.to_csv('./Predict_Sentence/text_to_predict_feat.csv')\n",
        "    text_to_predict_feat = pd.read_csv(\"./Predict_Sentence/text_to_predict_feat.csv\",index_col =0)\n",
        "    return text_to_predict_feat"
      ]
    },
    {
      "cell_type": "code",
      "execution_count": 69,
      "metadata": {},
      "outputs": [],
      "source": [
        "#predict language using the trained model\n",
        "def get_result(text_to_predict_feat):\n",
        "\n",
        "    import matplotlib.pyplot as plt\n",
        "    import seaborn as sns\n",
        "    from sklearn.metrics import accuracy_score,confusion_matrix\n",
        "\n",
        "    x_test = text_to_predict_feat\n",
        "\n",
        "    #Get predictions on test set\n",
        "    labels = model.predict(x_test)\n",
        "    classes_x=np.argmax(labels,axis=1)\n",
        "    predictions = encoder.inverse_transform(classes_x)\n",
        "\n",
        "    print(predictions)"
      ]
    },
    {
      "cell_type": "code",
      "execution_count": 70,
      "metadata": {},
      "outputs": [],
      "source": [
        "def predict_my_sentence(String_text_to_predict):\n",
        "    String_to_csv(String_text_to_predict)\n",
        "    get_result(csv_to_feature_matrix())"
      ]
    },
    {
      "cell_type": "code",
      "execution_count": 72,
      "metadata": {},
      "outputs": [
        {
          "name": "stdout",
          "output_type": "stream",
          "text": [
            "1/1 [==============================] - 0s 28ms/step\n",
            "['fra']\n"
          ]
        }
      ],
      "source": [
        "String_text_to_predict=input(\"Enter your query :\")\n",
        "predict_my_sentence(String_text_to_predict)"
      ]
    },
    {
      "cell_type": "code",
      "execution_count": null,
      "metadata": {},
      "outputs": [],
      "source": []
    }
  ],
  "metadata": {
    "accelerator": "GPU",
    "colab": {
      "provenance": []
    },
    "gpuClass": "standard",
    "kernelspec": {
      "display_name": "Python 3 (ipykernel)",
      "language": "python",
      "name": "python3"
    },
    "language_info": {
      "codemirror_mode": {
        "name": "ipython",
        "version": 3
      },
      "file_extension": ".py",
      "mimetype": "text/x-python",
      "name": "python",
      "nbconvert_exporter": "python",
      "pygments_lexer": "ipython3",
      "version": "3.10.10"
    },
    "vscode": {
      "interpreter": {
        "hash": "2ec86c1adecf73e2b4917b57c5287ef4624624ee5c83615ac8898e19426aaf36"
      }
    }
  },
  "nbformat": 4,
  "nbformat_minor": 0
}
